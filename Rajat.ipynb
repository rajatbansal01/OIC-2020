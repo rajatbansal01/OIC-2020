{
 "cells": [
  {
   "cell_type": "code",
   "execution_count": 18,
   "metadata": {},
   "outputs": [],
   "source": [
    "import os\n",
    "from csv import DictWriter\n",
    "import sys\n",
    "import local_utils\n",
    "import pandas as pd\n",
    "import time\n",
    "import requests\n",
    "try:\n",
    "     from PIL import Image\n",
    "except ImportError:\n",
    "     import Image\n",
    "\n",
    "import cv2\n",
    "import numpy as np\n",
    "import matplotlib.pyplot as plt\n",
    "%matplotlib inline\n",
    "from local_utils import detect_lp\n",
    "from os.path import splitext,basename\n",
    "from keras.models import model_from_json\n",
    "import pytesseract\n",
    "pytesseract.pytesseract.tesseract_cmd = r'C:\\Program Files\\Tesseract-OCR\\tesseract.exe'\n",
    "import numpy as np\n",
    "face_classifier = cv2.CascadeClassifier(\"haarcascade_frontalface_default.xml\")"
   ]
  },
  {
   "cell_type": "code",
   "execution_count": 32,
   "metadata": {},
   "outputs": [
    {
     "name": "stdout",
     "output_type": "stream",
     "text": [
      "already exists\n"
     ]
    }
   ],
   "source": [
    "df = pd.DataFrame(columns = ['date', 'v_number']) \n",
    "df.to_csv('data_new.csv')\n",
    "try:\n",
    "    os.mkdir(\"faces\")\n",
    "except FileExistsError:\n",
    "    print(\"already exists\")\n",
    "    pass\n",
    "try:\n",
    "    os.mkdir(\"plates\")\n",
    "except FileExistsError:\n",
    "    print(\"already exists\")\n",
    "    pass"
   ]
  },
  {
   "cell_type": "code",
   "execution_count": 20,
   "metadata": {},
   "outputs": [],
   "source": [
    "def csv_updater(v_number):    \n",
    "        with open('data_new.csv','a', newline = '') as f:\n",
    "            csv_file = DictWriter(f, fieldnames = [\"date\",\"v_number\"])\n",
    "            csv_file.writerows([\n",
    "            {'date': [time.asctime( time.localtime(time.time()) )], 'v_number': v_number}\n",
    "                ])\n",
    "        f.close()\n"
   ]
  },
  {
   "cell_type": "code",
   "execution_count": 21,
   "metadata": {},
   "outputs": [],
   "source": [
    "def most_frequent(List): \n",
    "    dict = {} \n",
    "    count, itm = 0, '' \n",
    "    for item in reversed(List): \n",
    "        dict[item] = dict.get(item, 0) + 1\n",
    "        if dict[item] >= count : \n",
    "            count, itm = dict[item], item \n",
    "    return(itm) "
   ]
  },
  {
   "cell_type": "code",
   "execution_count": 25,
   "metadata": {},
   "outputs": [],
   "source": [
    "def detect(frame):\n",
    "    gray = cv2.cvtColor(frame,cv2.COLOR_BGR2GRAY) #changing RGB to gray for better classification\n",
    "    faces = face_classifier.detectMultiScale(gray,1.3,5)\n",
    "    if faces is not ():\n",
    "        for (x,y,w,h) in faces:\n",
    "            cv2.rectangle(frame ,(x-w//2,y-h//2), (x+2*w ,y+2*h),(255,0,0),2)\n",
    "            img = frame[y-h//2:y+2*h , x-w//2:x+2*w]\n",
    "        return(img) \n",
    "    else:\n",
    "        return(frame)\n",
    "def save_img(img):\n",
    "    name = str(time.asctime())[4:16]\n",
    "    cv2.imwrite(\"faces/\"+name.jpg , img )"
   ]
  },
  {
   "cell_type": "code",
   "execution_count": 23,
   "metadata": {},
   "outputs": [],
   "source": [
    "def load_model(path):\n",
    "    try:\n",
    "        path = splitext(path)[0]\n",
    "        with open('%s.json' % path, 'r') as json_file:\n",
    "            model_json = json_file.read()\n",
    "        model = model_from_json(model_json, custom_objects={})\n",
    "        model.load_weights('%s.h5' % path)\n",
    "        print(\"Loading model successfully...\")\n",
    "        return model\n",
    "    except Exception as e:\n",
    "        print(e)"
   ]
  },
  {
   "cell_type": "code",
   "execution_count": 8,
   "metadata": {},
   "outputs": [],
   "source": [
    "def preprocess_image(img,resize=True):\n",
    "    #img = cv2.imread(image_path)\n",
    "    img = cv2.cvtColor(img, cv2.COLOR_BGR2RGB)\n",
    "    img = img / 255\n",
    "    if resize:\n",
    "        img = cv2.resize(img, (224,224))\n",
    "    return img"
   ]
  },
  {
   "cell_type": "code",
   "execution_count": 9,
   "metadata": {},
   "outputs": [],
   "source": [
    "def get_plate(img, Dmax=608, Dmin=256):\n",
    "    vehicle = preprocess_image(img)\n",
    "    ratio = float(max(vehicle.shape[:2])) / min(vehicle.shape[:2])\n",
    "    side = int(ratio * Dmin)\n",
    "    bound_dim = min(side, Dmax)\n",
    "    _ , LpImg, _, cor = detect_lp(wpod_net, vehicle, bound_dim, lp_threshold=0.5)\n",
    "    return(vehicle, LpImg, cor)\n"
   ]
  },
  {
   "cell_type": "code",
   "execution_count": 10,
   "metadata": {},
   "outputs": [],
   "source": [
    "def image_for_ocr(LpImg):\n",
    "    if (len(LpImg)): #check if there is at least one license image\n",
    "        # Scales, calculates absolute values, and converts the result to 8-bit.\n",
    "        plate_image = cv2.convertScaleAbs(LpImg[0], alpha=(255.0))\n",
    "        plt.imshow(plate_image)\n",
    "        plt.title(\"Plate image\")\n",
    "        # convert to grayscale and blur the image\n",
    "        gray = cv2.cvtColor(plate_image, cv2.COLOR_BGR2GRAY)\n",
    "        #blur = cv2.GaussianBlur(gray,(7,7),0)\n",
    "        \n",
    "        # Applied inversed thresh_binary \n",
    "        binary = cv2.threshold(gray, 180, 255,\n",
    "                            cv2.THRESH_BINARY_INV + cv2.THRESH_OTSU)[1]\n",
    "        binary= cv2.bitwise_not(binary)\n",
    "        kernel3 = cv2.getStructuringElement(cv2.MORPH_RECT, (3, 3))\n",
    "        thre_mor = cv2.morphologyEx(binary, cv2.MORPH_DILATE, kernel3)\n",
    "    return([plate_image,gray,binary,kernel3,thre_mor])"
   ]
  },
  {
   "cell_type": "code",
   "execution_count": 17,
   "metadata": {},
   "outputs": [],
   "source": [
    "def find_num(img):\n",
    "    #img = cv2.imread(path)\n",
    "    LpImg =0\n",
    "    try:\n",
    "        vehicle, LpImg,cor = get_plate(img)\n",
    "    except AssertionError:\n",
    "        pass\n",
    "    s=[]\n",
    "    if LpImg:\n",
    "        ocr_image=image_for_ocr(LpImg)[0]\n",
    "        number= pytesseract.image_to_string(ocr_image,lang=\"eng\")\n",
    "        for i in number:\n",
    "            if i.isalnum() and (not i.islower()):\n",
    "                s.append(i)\n",
    "        return(\"\".join(s),LpImg)\n",
    "    else:\n",
    "        return(0)"
   ]
  },
  {
   "cell_type": "code",
   "execution_count": 12,
   "metadata": {},
   "outputs": [],
   "source": [
    "def draw_box(image_path, cor, thickness=3): \n",
    "    pts=[]  \n",
    "    x_coordinates=cor[0][0]\n",
    "    y_coordinates=cor[0][1]\n",
    "    # store the top-left, top-right, bottom-left, bottom-right \n",
    "    # of the plate license respectively\n",
    "    for i in range(4):\n",
    "        pts.append([int(x_coordinates[i]),int(y_coordinates[i])])\n",
    "    \n",
    "    pts = np.array(pts, np.int32)\n",
    "    pts = pts.reshape((-1,1,2))\n",
    "    vehicle_image = preprocess_image(image_path)\n",
    "    \n",
    "    cv2.polylines(vehicle_image,[pts],True,(0,255,0),thickness)\n",
    "    return vehicle_image"
   ]
  },
  {
   "cell_type": "code",
   "execution_count": 13,
   "metadata": {},
   "outputs": [
    {
     "name": "stdout",
     "output_type": "stream",
     "text": [
      "Loading model successfully...\n"
     ]
    }
   ],
   "source": [
    "wpod_net_path = \"wpod-net.json\"\n",
    "wpod_net = load_model(wpod_net_path)"
   ]
  },
  {
   "cell_type": "code",
   "execution_count": 14,
   "metadata": {},
   "outputs": [],
   "source": [
    "# cap = cv2.VideoCapture(\"test.mp4\") #path to video\n",
    "# num=[]\n",
    "# while cap.isOpened():\n",
    "#     time.sleep(1)\n",
    "#     ret,frame = cap.read()\n",
    "#     if ret:\n",
    "#         gray = cv2.cvtColor(frame,cv2.COLOR_BGR2GRAY)\n",
    "#         number = find_num(gray)\n",
    "#         if number:\n",
    "#             num.append(number)\n",
    "#         else:\n",
    "#             continue\n",
    "#         if num[0] != num[len(num)-1] and len(num)>1:\n",
    "#             print(num)\n",
    "#             csv_updater(num[0])\n",
    "#             num = []\n",
    "#         else:\n",
    "#             continue\n",
    "#         if cv2.waitKey(1) & 0xFF == ord('q'):  #13 is enter key\n",
    "#             break\n",
    "#     else:\n",
    "#         break\n",
    "# cap.release()"
   ]
  },
  {
   "cell_type": "code",
   "execution_count": 1,
   "metadata": {},
   "outputs": [
    {
     "ename": "NameError",
     "evalue": "name 'cv2' is not defined",
     "output_type": "error",
     "traceback": [
      "\u001b[1;31m---------------------------------------------------------------------------\u001b[0m",
      "\u001b[1;31mNameError\u001b[0m                                 Traceback (most recent call last)",
      "\u001b[1;32m<ipython-input-1-a77a647ca4d4>\u001b[0m in \u001b[0;36m<module>\u001b[1;34m\u001b[0m\n\u001b[1;32m----> 1\u001b[1;33m \u001b[0mcap_plate\u001b[0m \u001b[1;33m=\u001b[0m \u001b[0mcv2\u001b[0m\u001b[1;33m.\u001b[0m\u001b[0mVideoCapture\u001b[0m\u001b[1;33m(\u001b[0m\u001b[1;36m0\u001b[0m\u001b[1;33m)\u001b[0m\u001b[1;33m\u001b[0m\u001b[1;33m\u001b[0m\u001b[0m\n\u001b[0m\u001b[0;32m      2\u001b[0m \u001b[0mnum\u001b[0m\u001b[1;33m=\u001b[0m\u001b[1;33m[\u001b[0m\u001b[1;33m]\u001b[0m\u001b[1;33m\u001b[0m\u001b[1;33m\u001b[0m\u001b[0m\n\u001b[0;32m      3\u001b[0m \u001b[1;32mwhile\u001b[0m \u001b[0mcap\u001b[0m\u001b[1;33m.\u001b[0m\u001b[0misOpened\u001b[0m\u001b[1;33m(\u001b[0m\u001b[1;33m)\u001b[0m\u001b[1;33m:\u001b[0m\u001b[1;33m\u001b[0m\u001b[1;33m\u001b[0m\u001b[0m\n\u001b[0;32m      4\u001b[0m     \u001b[0mtime\u001b[0m\u001b[1;33m.\u001b[0m\u001b[0msleep\u001b[0m\u001b[1;33m(\u001b[0m\u001b[1;36m0.05\u001b[0m\u001b[1;33m)\u001b[0m\u001b[1;33m\u001b[0m\u001b[1;33m\u001b[0m\u001b[0m\n\u001b[0;32m      5\u001b[0m     \u001b[0mret\u001b[0m\u001b[1;33m,\u001b[0m\u001b[0mframe\u001b[0m \u001b[1;33m=\u001b[0m \u001b[0mcap_plate\u001b[0m\u001b[1;33m.\u001b[0m\u001b[0mread\u001b[0m\u001b[1;33m(\u001b[0m\u001b[1;33m)\u001b[0m\u001b[1;33m\u001b[0m\u001b[1;33m\u001b[0m\u001b[0m\n",
      "\u001b[1;31mNameError\u001b[0m: name 'cv2' is not defined"
     ]
    }
   ],
   "source": [
    "cap_plate = cv2.VideoCapture(0)\n",
    "num=[]\n",
    "while cap_plate.isOpened():\n",
    "    time.sleep(0.05)\n",
    "    ret,frame = cap_plate.read()\n",
    "    if ret:\n",
    "        gray = cv2.cvtColor(frame,cv2.COLOR_BGR2GRAY)\n",
    "        try:\n",
    "            vehicle, LpImg,cor = get_plate(frame)\n",
    "            plate = draw_box(frame,cor)\n",
    "        except AssertionError:\n",
    "            plate = frame\n",
    "        cv2.imshow(\"plate\",plate)\n",
    "        if cv2.waitKey(1) & 0xFF == ord('q'):  #13 is enter key\n",
    "            break        \n",
    "    else:\n",
    "        break\n",
    "cap_plate.release()\n",
    "cv2.destroyAllWindows()"
   ]
  },
  {
   "cell_type": "code",
   "execution_count": 15,
   "metadata": {},
   "outputs": [],
   "source": [
    "cap_plate = cv2.VideoCapture(0) #path to video\n",
    "num=[]\n",
    "while cap_plate.isOpened():\n",
    "    time.sleep(1)\n",
    "    ret,frame = cap.read()\n",
    "    if ret:\n",
    "        gray = cv2.cvtColor(frame,cv2.COLOR_BGR2GRAY)\n",
    "        number = find_num(gray)\n",
    "        if number:\n",
    "            num.append(number)\n",
    "        else:\n",
    "            continue\n",
    "        #if num[0] != num[len(num)-1] and len(num)>1:\n",
    "        if len(num)>20:\n",
    "            n=most_frequent(num)\n",
    "            csv_updater(n)\n",
    "            print(n)\n",
    "            num = []\n",
    "        else:\n",
    "            continue\n",
    "        if cv2.waitKey(1) & 0xFF == ord('q'):  #13 is enter key\n",
    "            break\n",
    "    else:\n",
    "        break\n",
    "cap.release()"
   ]
  },
  {
   "cell_type": "code",
   "execution_count": 30,
   "metadata": {},
   "outputs": [],
   "source": [
    "cap_face = cv2.VideoCapture(0)\n",
    "while cap_face.isOpened():\n",
    "    #time.sleep(0.2)\n",
    "    ret,frame = cap_face.read()\n",
    "    if ret:\n",
    "        face_image = detect(frame)\n",
    "        cv2.imshow(\"video\" , face_image)\n",
    "        if cv2.waitKey(1) & 0xFF == ord('q'): # press enter and \"q\" key to close the window\n",
    "            break\n",
    "    else:\n",
    "        break\n",
    "cap_face.release()\n",
    "cv2.destroyAllWindows()"
   ]
  },
  {
   "cell_type": "code",
   "execution_count": null,
   "metadata": {},
   "outputs": [],
   "source": [
    "#number plate csv updater\n",
    "def csv_updater(v_number):\n",
    "    name = time.asctime()[4:16]\n",
    "    name = name.replace(\":\", \"_\")\n",
    "    with open('data_new.csv','a', newline = '') as f:\n",
    "        csv_file = DictWriter(f, fieldnames = [\"date\",\"v_number\",'plate_path','face_path'])\n",
    "        csv_file.writerows([\n",
    "        {'date': [time.asctime( time.localtime(time.time()) )], 'v_number': v_number,\n",
    "         'plate_path':\"plates/\"+v_number+ \".jpg\",'face_path':\"faces/\"+name+\".jpg\"}\n",
    "            ])\n",
    "    f.close()\n",
    "\n",
    "\n",
    "# plate path updater        \n",
    "#def plate_updater():    \n",
    "#        with open('data_new.csv','a', newline = '') as f:\n",
    "#            csv_file = DictWriter(f, fieldnames = [\"date\",\"v_number\"])\n",
    "#            csv_file.writerows([\n",
    "#            {'date': [time.asctime( time.localtime(time.time()) )], 'v_number': v_number}\n",
    "#                ])\n",
    "#        f.close()"
   ]
  }
 ],
 "metadata": {
  "kernelspec": {
   "display_name": "Python 3",
   "language": "python",
   "name": "python3"
  },
  "language_info": {
   "codemirror_mode": {
    "name": "ipython",
    "version": 3
   },
   "file_extension": ".py",
   "mimetype": "text/x-python",
   "name": "python",
   "nbconvert_exporter": "python",
   "pygments_lexer": "ipython3",
   "version": "3.7.9"
  }
 },
 "nbformat": 4,
 "nbformat_minor": 4
}
